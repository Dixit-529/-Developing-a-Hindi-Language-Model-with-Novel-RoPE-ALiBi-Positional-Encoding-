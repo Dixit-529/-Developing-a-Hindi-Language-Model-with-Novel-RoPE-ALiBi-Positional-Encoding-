{
  "cells": [
    {
      "cell_type": "code",
      "execution_count": 1,
      "metadata": {},
      "outputs": [
        {
          "name": "stdout",
          "output_type": "stream",
          "text": [
            "Script continues...\n"
          ]
        }
      ],
      "source": [
        "import warnings\n",
        "warnings.filterwarnings('ignore') \n",
        "\n",
        "warnings.warn(\"This warning will be hidden\")\n",
        "print(\"Script continues...\")"
      ]
    },
    {
      "cell_type": "code",
      "execution_count": 2,
      "metadata": {
        "colab": {
          "base_uri": "https://localhost:8080/",
          "height": 84,
          "referenced_widgets": [
            "1a89ed3f95904882aaf2caa646e37a70",
            "a8f20e4ba7ed44c6a86725e72b254af7",
            "97be14f70abd4704bf98d60b45b891c0",
            "55df484b922e4b338112b9460708d779",
            "3bc4af45051247c5812f6db6d374193b",
            "cb720240311d41cc83a1d42a641f1b6c",
            "aece0d53cb9e4bb382c007c970c0d852",
            "ba6884e058d84495a1231cb6fc514438",
            "3a5c0fad1bdb40b5a27d86c1963a3972",
            "f9fcb8cb40e94c0d8adb0fb10f9f88c2",
            "1dcd162c1dfd421cb17c09cf89a3e062"
          ]
        },
        "id": "CJaxoWY-QZq2",
        "outputId": "a5b552b2-2369-4f7d-ec34-6f2f71e93ed2"
      },
      "outputs": [
        {
          "name": "stderr",
          "output_type": "stream",
          "text": [
            "2025-05-16 16:07:03.867477: E external/local_xla/xla/stream_executor/cuda/cuda_fft.cc:467] Unable to register cuFFT factory: Attempting to register factory for plugin cuFFT when one has already been registered\n",
            "WARNING: All log messages before absl::InitializeLog() is called are written to STDERR\n",
            "E0000 00:00:1747391824.976364    4239 cuda_dnn.cc:8579] Unable to register cuDNN factory: Attempting to register factory for plugin cuDNN when one has already been registered\n",
            "E0000 00:00:1747391825.381399    4239 cuda_blas.cc:1407] Unable to register cuBLAS factory: Attempting to register factory for plugin cuBLAS when one has already been registered\n",
            "W0000 00:00:1747391828.006792    4239 computation_placer.cc:177] computation placer already registered. Please check linkage and avoid linking the same target more than once.\n",
            "W0000 00:00:1747391828.006866    4239 computation_placer.cc:177] computation placer already registered. Please check linkage and avoid linking the same target more than once.\n",
            "W0000 00:00:1747391828.006879    4239 computation_placer.cc:177] computation placer already registered. Please check linkage and avoid linking the same target more than once.\n",
            "W0000 00:00:1747391828.006889    4239 computation_placer.cc:177] computation placer already registered. Please check linkage and avoid linking the same target more than once.\n",
            "2025-05-16 16:07:08.416724: I tensorflow/core/platform/cpu_feature_guard.cc:210] This TensorFlow binary is optimized to use available CPU instructions in performance-critical operations.\n",
            "To enable the following instructions: AVX2 FMA, in other operations, rebuild TensorFlow with the appropriate compiler flags.\n"
          ]
        },
        {
          "name": "stdout",
          "output_type": "stream",
          "text": [
            "data loading...\n",
            "data loaded!!!\n"
          ]
        }
      ],
      "source": [
        "\n",
        "import torch\n",
        "from transformers import GPT2Config, GPT2LMHeadModel, Trainer, TrainingArguments\n",
        "from transformers.data.data_collator import DataCollatorForLanguageModeling\n",
        "import sentencepiece as spm\n",
        "from datasets import load_dataset\n",
        "import math\n",
        "\n",
        "\n",
        "print(\"data loading...\")\n",
        "dataset = load_dataset(\"text\", data_files={\"train\": \"/home/dixit/Project/May try/hindi_corpus_fixed.txt\"})\n",
        "print(\"data loaded!!!\")"
      ]
    },
    {
      "cell_type": "code",
      "execution_count": 3,
      "metadata": {
        "colab": {
          "base_uri": "https://localhost:8080/",
          "height": 121,
          "referenced_widgets": [
            "d11044b1cc65416cac4f302bbf5635d6",
            "9072a8163a4b45a1964cb4dd4ecf8682",
            "e35f9a5a01b447df9805a3ae9affaf5a",
            "7c2f71b1203f4561bf46766c113cbdc4",
            "f7e12088adfc4f47bd3d28aabd3d8420",
            "01780ee9fa2b4daaa101815e60e4bdfd",
            "d5a5caf7c1994adabdd383fb89b3f299",
            "5dfa41d4068f46e0afbf3f5a994aa1a6",
            "91cc13000cfc4a2a913b405766439aff",
            "e6e0abde3f734c6eb11e2ee5efef49e9",
            "9f9480cf11f34e92967bb41eb433ea5a"
          ]
        },
        "id": "_QWagH8yNWgF",
        "outputId": "35e3676e-7d69-44e6-fcc6-9a03880f30ec"
      },
      "outputs": [
        {
          "name": "stdout",
          "output_type": "stream",
          "text": [
            "tokenizing...\n",
            "tokenizing completed!!!\n"
          ]
        }
      ],
      "source": [
        "from transformers import T5Tokenizer\n",
        "\n",
        "tokenizer = T5Tokenizer.from_pretrained(\"/home/dixit/Project/May try/my_hindi_t5_tokenizer\")\n",
        "tokenizer.model_max_length = 256\n",
        "tokenizer.pad_token = \"<pad>\"  \n",
        "tokenizer.padding_size = \"right\"\n",
        "\n",
        "\n",
        "\n",
        "def tokenize_function(examples):\n",
        "    # return {\"input_ids\": tokenizer.EncodeAsIds(examples[\"text\"])}\n",
        "    tokens = tokenizer(examples[\"text\"], truncation=True)\n",
        "    return {\"input_ids\": tokens[\"input_ids\"]}\n",
        "\n",
        "print(\"tokenizing...\")\n",
        "tokenized_datasets = dataset.map(\n",
        "    tokenize_function,\n",
        "    batched=True,\n",
        "    remove_columns=[\"text\"],\n",
        "    batch_size=500,\n",
        "    num_proc=8,  # Adjust based on CPU cores\n",
        "    load_from_cache_file=True\n",
        ")\n",
        "print(\"tokenizing completed!!!\")\n"
      ]
    },
    {
      "cell_type": "code",
      "execution_count": 4,
      "metadata": {
        "id": "rIjsYF30NpU5"
      },
      "outputs": [],
      "source": [
        "# 3. Model Configuration (Optimized for 6GB GPU)\n",
        "config = GPT2Config(\n",
        "    vocab_size = tokenizer.vocab_size,\n",
        "    n_positions=256,\n",
        "    n_ctx=256,\n",
        "    n_embd=512,\n",
        "    n_layer=6,\n",
        "    n_head=8,\n",
        "    bos_token_id = tokenizer.bos_token_id,\n",
        "    eos_token_id = tokenizer.eos_token_id,\n",
        "    layer_norm_epsilon=1e-5,\n",
        "    initializer_range=0.02,\n",
        "    summary_activation='tanh',\n",
        "    use_cache=False,\n",
        "    dropout= 0.1,\n",
        ")\n"
      ]
    },
    {
      "cell_type": "code",
      "execution_count": 5,
      "metadata": {},
      "outputs": [],
      "source": [
        "model = GPT2LMHeadModel(config)\n",
        "model.config.pad_token_id = tokenizer.pad_token_id  \n",
        "model.gradient_checkpointing_enable()  "
      ]
    },
    {
      "cell_type": "code",
      "execution_count": 6,
      "metadata": {
        "id": "3YssKZFPbfio"
      },
      "outputs": [],
      "source": [
        "# 4. Training Arguments with Checkpointing\n",
        "\n",
        "training_args = TrainingArguments(\n",
        "    output_dir=\"/home/dixit/Project/May try/hindi-lm-new\",\n",
        "    overwrite_output_dir=True,\n",
        "    num_train_epochs=10,\n",
        "    per_device_train_batch_size=6,  \n",
        "    per_device_eval_batch_size=2,  \n",
        "    gradient_accumulation_steps=4,  \n",
        "    learning_rate=2e-4,\n",
        "    optim=\"adafactor\",\n",
        "    max_grad_norm=1.0,\n",
        "    save_total_limit=100000,\n",
        "    logging_dir=\"/home/dixit/Project/May try/logs-new\",\n",
        "    eval_strategy =\"steps\", \n",
        "    save_strategy=\"epoch\",\n",
        "    logging_steps=1000,\n",
        "    eval_steps=5000, \n",
        "    warmup_steps=1000,\n",
        "    save_steps = 10000,\n",
        "    weight_decay=0.01,\n",
        "    dataloader_num_workers=2,\n",
        "    remove_unused_columns=False, \n",
        "    resume_from_checkpoint=True,  \n",
        "    fp16=True,  \n",
        "    eval_accumulation_steps=None,\n",
        "    report_to=\"tensorboard\",\n",
        ")\n"
      ]
    },
    {
      "cell_type": "code",
      "execution_count": 7,
      "metadata": {
        "colab": {
          "base_uri": "https://localhost:8080/"
        },
        "id": "BrrrewgFIWz6",
        "outputId": "f532f1b1-cc85-487a-bbe0-927b7af6aab1"
      },
      "outputs": [
        {
          "name": "stdout",
          "output_type": "stream",
          "text": [
            "Input IDs max: 28052\n",
            "Label max (if applicable): N/A\n",
            "Tokenizer vocab size: 30000\n",
            "Model vocab size: 30000\n"
          ]
        }
      ],
      "source": [
        "# Peek at a batch\n",
        "batch = tokenized_datasets[\"train\"][0]\n",
        "print(\"Input IDs max:\", max(batch[\"input_ids\"]))\n",
        "print(\"Label max (if applicable):\", max(batch[\"labels\"]) if \"labels\" in batch else \"N/A\")\n",
        "print(\"Tokenizer vocab size:\", tokenizer.vocab_size)\n",
        "print(\"Model vocab size:\", model.get_input_embeddings().weight.shape[0])"
      ]
    },
    {
      "cell_type": "code",
      "execution_count": 8,
      "metadata": {
        "id": "A7rii35wGWk4"
      },
      "outputs": [],
      "source": [
        "# model.resize_token_embeddings(tokenizer.vocab_size)"
      ]
    },
    {
      "cell_type": "code",
      "execution_count": null,
      "metadata": {
        "colab": {
          "base_uri": "https://localhost:8080/",
          "height": 1000
        },
        "id": "2kZq1XTPZZXH",
        "outputId": "99cd74dd-86eb-4f37-f818-59add98c3db8"
      },
      "outputs": [
        {
          "name": "stdout",
          "output_type": "stream",
          "text": [
            "GPU Memory Allocated: 132.63 MB\n",
            "GPU Memory Cached: 148.00 MB\n"
          ]
        },
        {
          "name": "stderr",
          "output_type": "stream",
          "text": [
            "`loss_type=None` was set in the config but it is unrecognised.Using the default loss: `ForCausalLMLoss`.\n"
          ]
        },
        {
          "data": {
            "text/html": [
              "\n",
              "    <div>\n",
              "      \n",
              "      <progress value='3071' max='1528770' style='width:300px; height:20px; vertical-align: middle;'></progress>\n",
              "      [   3071/1528770 13:20 < 110:36:00, 3.83 it/s, Epoch 0.02/10]\n",
              "    </div>\n",
              "    <table border=\"1\" class=\"dataframe\">\n",
              "  <thead>\n",
              " <tr style=\"text-align: left;\">\n",
              "      <th>Step</th>\n",
              "      <th>Training Loss</th>\n",
              "      <th>Validation Loss</th>\n",
              "    </tr>\n",
              "  </thead>\n",
              "  <tbody>\n",
              "  </tbody>\n",
              "</table><p>"
            ],
            "text/plain": [
              "<IPython.core.display.HTML object>"
            ]
          },
          "metadata": {},
          "output_type": "display_data"
        }
      ],
      "source": [
        "# 5. Custom Metrics\n",
        "# import math\n",
        "\n",
        "# def compute_metrics(eval_preds):\n",
        "#     logits, labels = eval_preds\n",
        "#     shift_logits = logits[..., :-1, :].contiguous()\n",
        "#     shift_labels = labels[..., 1:].contiguous()\n",
        "\n",
        "#     loss_fct = torch.nn.CrossEntropyLoss(ignore_index=tokenizer.pad_token_id)\n",
        "#     loss = loss_fct(shift_logits.view(-1, shift_logits.size(-1)), shift_labels.view(-1))\n",
        "#     return {\"perplexity\": math.exp(loss.item())}\n",
        "\n",
        "\n",
        "# 6. Create Data Collator\n",
        "data_collator = DataCollatorForLanguageModeling(\n",
        "    tokenizer=tokenizer,\n",
        "    mlm=False,\n",
        "    pad_to_multiple_of=8\n",
        ")\n",
        "\n",
        "\n",
        "import numpy as np\n",
        "seed = 42\n",
        "np.random.seed(seed)\n",
        "torch.manual_seed(seed)\n",
        "train_dataset_1 = tokenized_datasets[\"train\"]\n",
        "\n",
        "# Shuffle and select a fixed subset for eval_dataset\n",
        "eval_dataset_1 = train_dataset_1.shuffle(seed=seed).select(range(2000))\n",
        "\n",
        "# 7. Start Training\n",
        "trainer = Trainer(\n",
        "    model=model,\n",
        "    args=training_args,\n",
        "    data_collator=data_collator,\n",
        "    train_dataset=train_dataset_1,\n",
        "    eval_dataset=eval_dataset_1,\n",
        "    compute_metrics=None,\n",
        ")\n",
        "\n",
        "\n",
        "def print_gpu_usage():\n",
        "    print(f\"GPU Memory Allocated: {torch.cuda.memory_allocated()/1024**2:.2f} MB\")\n",
        "    print(f\"GPU Memory Cached: {torch.cuda.memory_reserved()/1024**2:.2f} MB\")\n",
        "\n",
        "print_gpu_usage()\n",
        "\n",
        "\n",
        "trainer.train(resume_from_checkpoint=False)\n"
      ]
    },
    {
      "cell_type": "code",
      "execution_count": null,
      "metadata": {
        "id": "lepcLCDNGPdx"
      },
      "outputs": [],
      "source": [
        "print(\"Tokenizer vocab size:\", tokenizer.vocab_size)"
      ]
    },
    {
      "cell_type": "code",
      "execution_count": null,
      "metadata": {
        "id": "9wojd-9GGRrV"
      },
      "outputs": [],
      "source": [
        "print(\"Model vocab size:\", model.get_input_embeddings().weight.shape[0])"
      ]
    },
    {
      "cell_type": "code",
      "execution_count": null,
      "metadata": {
        "id": "bQNSjNVobs8-"
      },
      "outputs": [],
      "source": [
        "# # Part 2: Text Generation Evaluation (generate.py)\n",
        "# from transformers import pipeline\n",
        "\n",
        "# def generate_text(prompt, max_length=50):\n",
        "#     generator = pipeline(\"text-generation\", model=\"/content/drive/MyDrive/hindi-lm\", tokenizer=tokenizer)\n",
        "#     result = generator(\n",
        "#         prompt,\n",
        "#         max_length=max_length,\n",
        "#         num_return_sequences=1,\n",
        "#         pad_token_id=tokenizer.pad_id() or tokenizer.eos_id(),\n",
        "#     )\n",
        "#     return result[0][\"generated_text\"]\n",
        "\n",
        "# # Example usage\n",
        "# print(generate_text(\"भारत एक महान देश है\"))"
      ]
    },
    {
      "cell_type": "code",
      "execution_count": null,
      "metadata": {
        "id": "QLNtkEyFiv1V"
      },
      "outputs": [],
      "source": [
        "# Part 3: Text Classification Evaluation (classifier.py)\n",
        "# from transformers import GPT2ForSequenceClassification\n",
        "# from sklearn.metrics import accuracy_score, f1_score\n",
        "\n",
        "# 1. Load Fine-tuned Model\n",
        "# clf_model = GPT2ForSequenceClassification.from_pretrained(\"/content/drive/MyDrive/hindi-lm\", num_labels=num_classes)\n",
        "\n",
        "# 2. Evaluation Function\n",
        "# def evaluate_classification(test_dataset):\n",
        "#     trainer = Trainer(\n",
        "#         model=clf_model,\n",
        "#         args=TrainingArguments(\n",
        "#             output_dir=\"./tmp\",\n",
        "#             per_device_eval_batch_size=8\n",
        "#         ),\n",
        "#         compute_metrics=lambda p: {\n",
        "#             \"accuracy\": accuracy_score(p.label_ids, p.predictions.argmax(-1)),\n",
        "#             \"f1\": f1_score(p.label_ids, p.predictions.argmax(-1), average=\"weighted\")\n",
        "#         }\n",
        "#     )\n",
        "#     return trainer.evaluate(test_dataset)\n",
        "\n",
        "# Part 4: Indic Eval Integration (optional)\n",
        "# from indic_eval import evaluate\n",
        "\n",
        "# # For classification tasks\n",
        "# def run_indic_eval(dataset):\n",
        "#     return evaluate(\n",
        "#         task=\"text-classification\",\n",
        "#         model=clf_model,\n",
        "#         tokenizer=tokenizer,\n",
        "#         dataset=dataset,\n",
        "#         metrics=[\"accuracy\", \"f1\"]\n",
        "#     )\n",
        "\n",
        "# Hardware Notes:\n",
        "# - Batch size can be increased if memory allows\n",
        "# - Use gradient_accumulation_steps for better batch utilization\n",
        "# - FP16 helps reduce memory usage\n",
        "# - Consider using DeepSpeed if needed\n",
        "\n",
        "# Resume Training:\n",
        "# Just rerun the script - it will automatically resume from last checkpoint\n",
        "\n",
        "# Important Considerations:\n",
        "# 1. Preprocess your classification dataset appropriately\n",
        "# 2. Adjust model size based on your GPU capacity\n",
        "# 3. Monitor GPU usage with nvidia-smi\n",
        "# 4. For better generation quality, experiment with different sampling parameters"
      ]
    },
    {
      "cell_type": "code",
      "execution_count": null,
      "metadata": {
        "id": "VOXxizMNMOOH"
      },
      "outputs": [],
      "source": []
    }
  ],
  "metadata": {
    "accelerator": "GPU",
    "colab": {
      "gpuType": "T4",
      "provenance": []
    },
    "kernelspec": {
      "display_name": "hindi_llm",
      "language": "python",
      "name": "python3"
    },
    "language_info": {
      "codemirror_mode": {
        "name": "ipython",
        "version": 3
      },
      "file_extension": ".py",
      "mimetype": "text/x-python",
      "name": "python",
      "nbconvert_exporter": "python",
      "pygments_lexer": "ipython3",
      "version": "3.12.2"
    },
    "widgets": {
      "application/vnd.jupyter.widget-state+json": {
        "01780ee9fa2b4daaa101815e60e4bdfd": {
          "model_module": "@jupyter-widgets/base",
          "model_module_version": "1.2.0",
          "model_name": "LayoutModel",
          "state": {
            "_model_module": "@jupyter-widgets/base",
            "_model_module_version": "1.2.0",
            "_model_name": "LayoutModel",
            "_view_count": null,
            "_view_module": "@jupyter-widgets/base",
            "_view_module_version": "1.2.0",
            "_view_name": "LayoutView",
            "align_content": null,
            "align_items": null,
            "align_self": null,
            "border": null,
            "bottom": null,
            "display": null,
            "flex": null,
            "flex_flow": null,
            "grid_area": null,
            "grid_auto_columns": null,
            "grid_auto_flow": null,
            "grid_auto_rows": null,
            "grid_column": null,
            "grid_gap": null,
            "grid_row": null,
            "grid_template_areas": null,
            "grid_template_columns": null,
            "grid_template_rows": null,
            "height": null,
            "justify_content": null,
            "justify_items": null,
            "left": null,
            "margin": null,
            "max_height": null,
            "max_width": null,
            "min_height": null,
            "min_width": null,
            "object_fit": null,
            "object_position": null,
            "order": null,
            "overflow": null,
            "overflow_x": null,
            "overflow_y": null,
            "padding": null,
            "right": null,
            "top": null,
            "visibility": null,
            "width": null
          }
        },
        "1a89ed3f95904882aaf2caa646e37a70": {
          "model_module": "@jupyter-widgets/controls",
          "model_module_version": "1.5.0",
          "model_name": "HBoxModel",
          "state": {
            "_dom_classes": [],
            "_model_module": "@jupyter-widgets/controls",
            "_model_module_version": "1.5.0",
            "_model_name": "HBoxModel",
            "_view_count": null,
            "_view_module": "@jupyter-widgets/controls",
            "_view_module_version": "1.5.0",
            "_view_name": "HBoxView",
            "box_style": "",
            "children": [
              "IPY_MODEL_a8f20e4ba7ed44c6a86725e72b254af7",
              "IPY_MODEL_97be14f70abd4704bf98d60b45b891c0",
              "IPY_MODEL_55df484b922e4b338112b9460708d779"
            ],
            "layout": "IPY_MODEL_3bc4af45051247c5812f6db6d374193b"
          }
        },
        "1dcd162c1dfd421cb17c09cf89a3e062": {
          "model_module": "@jupyter-widgets/controls",
          "model_module_version": "1.5.0",
          "model_name": "DescriptionStyleModel",
          "state": {
            "_model_module": "@jupyter-widgets/controls",
            "_model_module_version": "1.5.0",
            "_model_name": "DescriptionStyleModel",
            "_view_count": null,
            "_view_module": "@jupyter-widgets/base",
            "_view_module_version": "1.2.0",
            "_view_name": "StyleView",
            "description_width": ""
          }
        },
        "3a5c0fad1bdb40b5a27d86c1963a3972": {
          "model_module": "@jupyter-widgets/controls",
          "model_module_version": "1.5.0",
          "model_name": "ProgressStyleModel",
          "state": {
            "_model_module": "@jupyter-widgets/controls",
            "_model_module_version": "1.5.0",
            "_model_name": "ProgressStyleModel",
            "_view_count": null,
            "_view_module": "@jupyter-widgets/base",
            "_view_module_version": "1.2.0",
            "_view_name": "StyleView",
            "bar_color": null,
            "description_width": ""
          }
        },
        "3bc4af45051247c5812f6db6d374193b": {
          "model_module": "@jupyter-widgets/base",
          "model_module_version": "1.2.0",
          "model_name": "LayoutModel",
          "state": {
            "_model_module": "@jupyter-widgets/base",
            "_model_module_version": "1.2.0",
            "_model_name": "LayoutModel",
            "_view_count": null,
            "_view_module": "@jupyter-widgets/base",
            "_view_module_version": "1.2.0",
            "_view_name": "LayoutView",
            "align_content": null,
            "align_items": null,
            "align_self": null,
            "border": null,
            "bottom": null,
            "display": null,
            "flex": null,
            "flex_flow": null,
            "grid_area": null,
            "grid_auto_columns": null,
            "grid_auto_flow": null,
            "grid_auto_rows": null,
            "grid_column": null,
            "grid_gap": null,
            "grid_row": null,
            "grid_template_areas": null,
            "grid_template_columns": null,
            "grid_template_rows": null,
            "height": null,
            "justify_content": null,
            "justify_items": null,
            "left": null,
            "margin": null,
            "max_height": null,
            "max_width": null,
            "min_height": null,
            "min_width": null,
            "object_fit": null,
            "object_position": null,
            "order": null,
            "overflow": null,
            "overflow_x": null,
            "overflow_y": null,
            "padding": null,
            "right": null,
            "top": null,
            "visibility": null,
            "width": null
          }
        },
        "55df484b922e4b338112b9460708d779": {
          "model_module": "@jupyter-widgets/controls",
          "model_module_version": "1.5.0",
          "model_name": "HTMLModel",
          "state": {
            "_dom_classes": [],
            "_model_module": "@jupyter-widgets/controls",
            "_model_module_version": "1.5.0",
            "_model_name": "HTMLModel",
            "_view_count": null,
            "_view_module": "@jupyter-widgets/controls",
            "_view_module_version": "1.5.0",
            "_view_name": "HTMLView",
            "description": "",
            "description_tooltip": null,
            "layout": "IPY_MODEL_f9fcb8cb40e94c0d8adb0fb10f9f88c2",
            "placeholder": "​",
            "style": "IPY_MODEL_1dcd162c1dfd421cb17c09cf89a3e062",
            "value": " 3669059/0 [00:28&lt;00:00, 143509.34 examples/s]"
          }
        },
        "5dfa41d4068f46e0afbf3f5a994aa1a6": {
          "model_module": "@jupyter-widgets/base",
          "model_module_version": "1.2.0",
          "model_name": "LayoutModel",
          "state": {
            "_model_module": "@jupyter-widgets/base",
            "_model_module_version": "1.2.0",
            "_model_name": "LayoutModel",
            "_view_count": null,
            "_view_module": "@jupyter-widgets/base",
            "_view_module_version": "1.2.0",
            "_view_name": "LayoutView",
            "align_content": null,
            "align_items": null,
            "align_self": null,
            "border": null,
            "bottom": null,
            "display": null,
            "flex": null,
            "flex_flow": null,
            "grid_area": null,
            "grid_auto_columns": null,
            "grid_auto_flow": null,
            "grid_auto_rows": null,
            "grid_column": null,
            "grid_gap": null,
            "grid_row": null,
            "grid_template_areas": null,
            "grid_template_columns": null,
            "grid_template_rows": null,
            "height": null,
            "justify_content": null,
            "justify_items": null,
            "left": null,
            "margin": null,
            "max_height": null,
            "max_width": null,
            "min_height": null,
            "min_width": null,
            "object_fit": null,
            "object_position": null,
            "order": null,
            "overflow": null,
            "overflow_x": null,
            "overflow_y": null,
            "padding": null,
            "right": null,
            "top": null,
            "visibility": null,
            "width": null
          }
        },
        "7c2f71b1203f4561bf46766c113cbdc4": {
          "model_module": "@jupyter-widgets/controls",
          "model_module_version": "1.5.0",
          "model_name": "HTMLModel",
          "state": {
            "_dom_classes": [],
            "_model_module": "@jupyter-widgets/controls",
            "_model_module_version": "1.5.0",
            "_model_name": "HTMLModel",
            "_view_count": null,
            "_view_module": "@jupyter-widgets/controls",
            "_view_module_version": "1.5.0",
            "_view_name": "HTMLView",
            "description": "",
            "description_tooltip": null,
            "layout": "IPY_MODEL_e6e0abde3f734c6eb11e2ee5efef49e9",
            "placeholder": "​",
            "style": "IPY_MODEL_9f9480cf11f34e92967bb41eb433ea5a",
            "value": " 3669059/3669059 [10:39&lt;00:00, 6257.84 examples/s]"
          }
        },
        "9072a8163a4b45a1964cb4dd4ecf8682": {
          "model_module": "@jupyter-widgets/controls",
          "model_module_version": "1.5.0",
          "model_name": "HTMLModel",
          "state": {
            "_dom_classes": [],
            "_model_module": "@jupyter-widgets/controls",
            "_model_module_version": "1.5.0",
            "_model_name": "HTMLModel",
            "_view_count": null,
            "_view_module": "@jupyter-widgets/controls",
            "_view_module_version": "1.5.0",
            "_view_name": "HTMLView",
            "description": "",
            "description_tooltip": null,
            "layout": "IPY_MODEL_01780ee9fa2b4daaa101815e60e4bdfd",
            "placeholder": "​",
            "style": "IPY_MODEL_d5a5caf7c1994adabdd383fb89b3f299",
            "value": "Map (num_proc=8): 100%"
          }
        },
        "91cc13000cfc4a2a913b405766439aff": {
          "model_module": "@jupyter-widgets/controls",
          "model_module_version": "1.5.0",
          "model_name": "ProgressStyleModel",
          "state": {
            "_model_module": "@jupyter-widgets/controls",
            "_model_module_version": "1.5.0",
            "_model_name": "ProgressStyleModel",
            "_view_count": null,
            "_view_module": "@jupyter-widgets/base",
            "_view_module_version": "1.2.0",
            "_view_name": "StyleView",
            "bar_color": null,
            "description_width": ""
          }
        },
        "97be14f70abd4704bf98d60b45b891c0": {
          "model_module": "@jupyter-widgets/controls",
          "model_module_version": "1.5.0",
          "model_name": "FloatProgressModel",
          "state": {
            "_dom_classes": [],
            "_model_module": "@jupyter-widgets/controls",
            "_model_module_version": "1.5.0",
            "_model_name": "FloatProgressModel",
            "_view_count": null,
            "_view_module": "@jupyter-widgets/controls",
            "_view_module_version": "1.5.0",
            "_view_name": "ProgressView",
            "bar_style": "success",
            "description": "",
            "description_tooltip": null,
            "layout": "IPY_MODEL_ba6884e058d84495a1231cb6fc514438",
            "max": 1,
            "min": 0,
            "orientation": "horizontal",
            "style": "IPY_MODEL_3a5c0fad1bdb40b5a27d86c1963a3972",
            "value": 1
          }
        },
        "9f9480cf11f34e92967bb41eb433ea5a": {
          "model_module": "@jupyter-widgets/controls",
          "model_module_version": "1.5.0",
          "model_name": "DescriptionStyleModel",
          "state": {
            "_model_module": "@jupyter-widgets/controls",
            "_model_module_version": "1.5.0",
            "_model_name": "DescriptionStyleModel",
            "_view_count": null,
            "_view_module": "@jupyter-widgets/base",
            "_view_module_version": "1.2.0",
            "_view_name": "StyleView",
            "description_width": ""
          }
        },
        "a8f20e4ba7ed44c6a86725e72b254af7": {
          "model_module": "@jupyter-widgets/controls",
          "model_module_version": "1.5.0",
          "model_name": "HTMLModel",
          "state": {
            "_dom_classes": [],
            "_model_module": "@jupyter-widgets/controls",
            "_model_module_version": "1.5.0",
            "_model_name": "HTMLModel",
            "_view_count": null,
            "_view_module": "@jupyter-widgets/controls",
            "_view_module_version": "1.5.0",
            "_view_name": "HTMLView",
            "description": "",
            "description_tooltip": null,
            "layout": "IPY_MODEL_cb720240311d41cc83a1d42a641f1b6c",
            "placeholder": "​",
            "style": "IPY_MODEL_aece0d53cb9e4bb382c007c970c0d852",
            "value": "Generating train split: "
          }
        },
        "aece0d53cb9e4bb382c007c970c0d852": {
          "model_module": "@jupyter-widgets/controls",
          "model_module_version": "1.5.0",
          "model_name": "DescriptionStyleModel",
          "state": {
            "_model_module": "@jupyter-widgets/controls",
            "_model_module_version": "1.5.0",
            "_model_name": "DescriptionStyleModel",
            "_view_count": null,
            "_view_module": "@jupyter-widgets/base",
            "_view_module_version": "1.2.0",
            "_view_name": "StyleView",
            "description_width": ""
          }
        },
        "ba6884e058d84495a1231cb6fc514438": {
          "model_module": "@jupyter-widgets/base",
          "model_module_version": "1.2.0",
          "model_name": "LayoutModel",
          "state": {
            "_model_module": "@jupyter-widgets/base",
            "_model_module_version": "1.2.0",
            "_model_name": "LayoutModel",
            "_view_count": null,
            "_view_module": "@jupyter-widgets/base",
            "_view_module_version": "1.2.0",
            "_view_name": "LayoutView",
            "align_content": null,
            "align_items": null,
            "align_self": null,
            "border": null,
            "bottom": null,
            "display": null,
            "flex": null,
            "flex_flow": null,
            "grid_area": null,
            "grid_auto_columns": null,
            "grid_auto_flow": null,
            "grid_auto_rows": null,
            "grid_column": null,
            "grid_gap": null,
            "grid_row": null,
            "grid_template_areas": null,
            "grid_template_columns": null,
            "grid_template_rows": null,
            "height": null,
            "justify_content": null,
            "justify_items": null,
            "left": null,
            "margin": null,
            "max_height": null,
            "max_width": null,
            "min_height": null,
            "min_width": null,
            "object_fit": null,
            "object_position": null,
            "order": null,
            "overflow": null,
            "overflow_x": null,
            "overflow_y": null,
            "padding": null,
            "right": null,
            "top": null,
            "visibility": null,
            "width": "20px"
          }
        },
        "cb720240311d41cc83a1d42a641f1b6c": {
          "model_module": "@jupyter-widgets/base",
          "model_module_version": "1.2.0",
          "model_name": "LayoutModel",
          "state": {
            "_model_module": "@jupyter-widgets/base",
            "_model_module_version": "1.2.0",
            "_model_name": "LayoutModel",
            "_view_count": null,
            "_view_module": "@jupyter-widgets/base",
            "_view_module_version": "1.2.0",
            "_view_name": "LayoutView",
            "align_content": null,
            "align_items": null,
            "align_self": null,
            "border": null,
            "bottom": null,
            "display": null,
            "flex": null,
            "flex_flow": null,
            "grid_area": null,
            "grid_auto_columns": null,
            "grid_auto_flow": null,
            "grid_auto_rows": null,
            "grid_column": null,
            "grid_gap": null,
            "grid_row": null,
            "grid_template_areas": null,
            "grid_template_columns": null,
            "grid_template_rows": null,
            "height": null,
            "justify_content": null,
            "justify_items": null,
            "left": null,
            "margin": null,
            "max_height": null,
            "max_width": null,
            "min_height": null,
            "min_width": null,
            "object_fit": null,
            "object_position": null,
            "order": null,
            "overflow": null,
            "overflow_x": null,
            "overflow_y": null,
            "padding": null,
            "right": null,
            "top": null,
            "visibility": null,
            "width": null
          }
        },
        "d11044b1cc65416cac4f302bbf5635d6": {
          "model_module": "@jupyter-widgets/controls",
          "model_module_version": "1.5.0",
          "model_name": "HBoxModel",
          "state": {
            "_dom_classes": [],
            "_model_module": "@jupyter-widgets/controls",
            "_model_module_version": "1.5.0",
            "_model_name": "HBoxModel",
            "_view_count": null,
            "_view_module": "@jupyter-widgets/controls",
            "_view_module_version": "1.5.0",
            "_view_name": "HBoxView",
            "box_style": "",
            "children": [
              "IPY_MODEL_9072a8163a4b45a1964cb4dd4ecf8682",
              "IPY_MODEL_e35f9a5a01b447df9805a3ae9affaf5a",
              "IPY_MODEL_7c2f71b1203f4561bf46766c113cbdc4"
            ],
            "layout": "IPY_MODEL_f7e12088adfc4f47bd3d28aabd3d8420"
          }
        },
        "d5a5caf7c1994adabdd383fb89b3f299": {
          "model_module": "@jupyter-widgets/controls",
          "model_module_version": "1.5.0",
          "model_name": "DescriptionStyleModel",
          "state": {
            "_model_module": "@jupyter-widgets/controls",
            "_model_module_version": "1.5.0",
            "_model_name": "DescriptionStyleModel",
            "_view_count": null,
            "_view_module": "@jupyter-widgets/base",
            "_view_module_version": "1.2.0",
            "_view_name": "StyleView",
            "description_width": ""
          }
        },
        "e35f9a5a01b447df9805a3ae9affaf5a": {
          "model_module": "@jupyter-widgets/controls",
          "model_module_version": "1.5.0",
          "model_name": "FloatProgressModel",
          "state": {
            "_dom_classes": [],
            "_model_module": "@jupyter-widgets/controls",
            "_model_module_version": "1.5.0",
            "_model_name": "FloatProgressModel",
            "_view_count": null,
            "_view_module": "@jupyter-widgets/controls",
            "_view_module_version": "1.5.0",
            "_view_name": "ProgressView",
            "bar_style": "success",
            "description": "",
            "description_tooltip": null,
            "layout": "IPY_MODEL_5dfa41d4068f46e0afbf3f5a994aa1a6",
            "max": 3669059,
            "min": 0,
            "orientation": "horizontal",
            "style": "IPY_MODEL_91cc13000cfc4a2a913b405766439aff",
            "value": 3669059
          }
        },
        "e6e0abde3f734c6eb11e2ee5efef49e9": {
          "model_module": "@jupyter-widgets/base",
          "model_module_version": "1.2.0",
          "model_name": "LayoutModel",
          "state": {
            "_model_module": "@jupyter-widgets/base",
            "_model_module_version": "1.2.0",
            "_model_name": "LayoutModel",
            "_view_count": null,
            "_view_module": "@jupyter-widgets/base",
            "_view_module_version": "1.2.0",
            "_view_name": "LayoutView",
            "align_content": null,
            "align_items": null,
            "align_self": null,
            "border": null,
            "bottom": null,
            "display": null,
            "flex": null,
            "flex_flow": null,
            "grid_area": null,
            "grid_auto_columns": null,
            "grid_auto_flow": null,
            "grid_auto_rows": null,
            "grid_column": null,
            "grid_gap": null,
            "grid_row": null,
            "grid_template_areas": null,
            "grid_template_columns": null,
            "grid_template_rows": null,
            "height": null,
            "justify_content": null,
            "justify_items": null,
            "left": null,
            "margin": null,
            "max_height": null,
            "max_width": null,
            "min_height": null,
            "min_width": null,
            "object_fit": null,
            "object_position": null,
            "order": null,
            "overflow": null,
            "overflow_x": null,
            "overflow_y": null,
            "padding": null,
            "right": null,
            "top": null,
            "visibility": null,
            "width": null
          }
        },
        "f7e12088adfc4f47bd3d28aabd3d8420": {
          "model_module": "@jupyter-widgets/base",
          "model_module_version": "1.2.0",
          "model_name": "LayoutModel",
          "state": {
            "_model_module": "@jupyter-widgets/base",
            "_model_module_version": "1.2.0",
            "_model_name": "LayoutModel",
            "_view_count": null,
            "_view_module": "@jupyter-widgets/base",
            "_view_module_version": "1.2.0",
            "_view_name": "LayoutView",
            "align_content": null,
            "align_items": null,
            "align_self": null,
            "border": null,
            "bottom": null,
            "display": null,
            "flex": null,
            "flex_flow": null,
            "grid_area": null,
            "grid_auto_columns": null,
            "grid_auto_flow": null,
            "grid_auto_rows": null,
            "grid_column": null,
            "grid_gap": null,
            "grid_row": null,
            "grid_template_areas": null,
            "grid_template_columns": null,
            "grid_template_rows": null,
            "height": null,
            "justify_content": null,
            "justify_items": null,
            "left": null,
            "margin": null,
            "max_height": null,
            "max_width": null,
            "min_height": null,
            "min_width": null,
            "object_fit": null,
            "object_position": null,
            "order": null,
            "overflow": null,
            "overflow_x": null,
            "overflow_y": null,
            "padding": null,
            "right": null,
            "top": null,
            "visibility": null,
            "width": null
          }
        },
        "f9fcb8cb40e94c0d8adb0fb10f9f88c2": {
          "model_module": "@jupyter-widgets/base",
          "model_module_version": "1.2.0",
          "model_name": "LayoutModel",
          "state": {
            "_model_module": "@jupyter-widgets/base",
            "_model_module_version": "1.2.0",
            "_model_name": "LayoutModel",
            "_view_count": null,
            "_view_module": "@jupyter-widgets/base",
            "_view_module_version": "1.2.0",
            "_view_name": "LayoutView",
            "align_content": null,
            "align_items": null,
            "align_self": null,
            "border": null,
            "bottom": null,
            "display": null,
            "flex": null,
            "flex_flow": null,
            "grid_area": null,
            "grid_auto_columns": null,
            "grid_auto_flow": null,
            "grid_auto_rows": null,
            "grid_column": null,
            "grid_gap": null,
            "grid_row": null,
            "grid_template_areas": null,
            "grid_template_columns": null,
            "grid_template_rows": null,
            "height": null,
            "justify_content": null,
            "justify_items": null,
            "left": null,
            "margin": null,
            "max_height": null,
            "max_width": null,
            "min_height": null,
            "min_width": null,
            "object_fit": null,
            "object_position": null,
            "order": null,
            "overflow": null,
            "overflow_x": null,
            "overflow_y": null,
            "padding": null,
            "right": null,
            "top": null,
            "visibility": null,
            "width": null
          }
        }
      }
    }
  },
  "nbformat": 4,
  "nbformat_minor": 0
}
