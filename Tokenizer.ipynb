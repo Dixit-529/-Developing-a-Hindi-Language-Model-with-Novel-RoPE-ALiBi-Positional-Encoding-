{
  "nbformat": 4,
  "nbformat_minor": 0,
  "metadata": {
    "colab": {
      "provenance": []
    },
    "kernelspec": {
      "name": "python3",
      "display_name": "Python 3"
    },
    "language_info": {
      "name": "python"
    }
  },
  "cells": [
    {
      "cell_type": "code",
      "execution_count": null,
      "metadata": {
        "id": "X-U1NRlSMkg2"
      },
      "outputs": [],
      "source": [
        "import sentencepiece as spm\n",
        "\n",
        "combined_text_path = '/content/drive/MyDrive/hindi_corpus_fixed.txt'\n",
        "tokenizer_model_prefix = '/content/drive/MyDrive/hindi_tokenizer_bpe'\n"
      ]
    },
    {
      "cell_type": "code",
      "source": [
        "print(\"Training SentencePiece model with BOS/EOS/PAD...\")\n",
        "spm.SentencePieceTrainer.train(\n",
        "    input=combined_text_path,\n",
        "    model_prefix=tokenizer_model_prefix,\n",
        "    vocab_size=30000,\n",
        "    model_type='bpe',\n",
        "    character_coverage=1.0,\n",
        "    input_sentence_size=1000000,\n",
        "    shuffle_input_sentence=True,\n",
        "    pad_id=0,         # <pad>\n",
        "    bos_id=1,         # <s>\n",
        "    eos_id=2,         # </s>\n",
        "    unk_id=3,         # <unk> (default)\n",
        "    user_defined_symbols=[],  # Optional\n",
        "    control_symbols=[],       # Optional\n",
        ")\n",
        "\n",
        "print(\"Tokenizer training complete.\")"
      ],
      "metadata": {
        "colab": {
          "base_uri": "https://localhost:8080/"
        },
        "id": "mQNVjWUZM0kh",
        "outputId": "84489e74-ad07-488c-d86f-ea2deb8c9b60"
      },
      "execution_count": null,
      "outputs": [
        {
          "output_type": "stream",
          "name": "stdout",
          "text": [
            "Training SentencePiece model with BOS/EOS/PAD...\n",
            "Tokenizer training complete.\n"
          ]
        }
      ]
    },
    {
      "cell_type": "markdown",
      "source": [],
      "metadata": {
        "id": "i6XKljixMgFB"
      }
    },
    {
      "cell_type": "code",
      "source": [
        "vocab_size=tokenizer.vocab_size\n",
        "print(vocab_size)"
      ],
      "metadata": {
        "colab": {
          "base_uri": "https://localhost:8080/"
        },
        "id": "Tqln9ythHbQY",
        "outputId": "f40b7f92-42c4-469a-c181-43967af9e8ba"
      },
      "execution_count": null,
      "outputs": [
        {
          "output_type": "stream",
          "name": "stdout",
          "text": [
            "30000\n"
          ]
        }
      ]
    },
    {
      "cell_type": "code",
      "source": [
        "from transformers import pipeline, GPT2LMHeadModel\n",
        "from transformers import T5Tokenizer\n",
        "\n",
        "tokenizer = T5Tokenizer(vocab_file=\"/content/drive/MyDrive/tokenizer_bpe_1.model\")\n",
        "tokenizer.pad_token = \"<pad>\"\n",
        "\n",
        "model = GPT2LMHeadModel.from_pretrained(\"/content/drive/MyDrive/hindi-lm/checkpoint-2293160\")\n",
        "\n",
        "def generate_text(model, tokenizer, prompt):\n",
        "    inputs = tokenizer(prompt, return_tensors=\"pt\").to(model.device)\n",
        "    outputs = model.generate(\n",
        "        **inputs,\n",
        "        max_length=50,\n",
        "        num_return_sequences=1,\n",
        "        temperature =0.8,\n",
        "        do_sample=True,\n",
        "        top_k=50,\n",
        "        top_p=0.95\n",
        "    )\n",
        "    return tokenizer.decode(outputs[0], skip_special_tokens=True)\n",
        "\n"
      ],
      "metadata": {
        "id": "VYKYPqYwGbcI"
      },
      "execution_count": null,
      "outputs": []
    },
    {
      "cell_type": "code",
      "source": [
        "# Test generation\n",
        "# prompt = \"भारत एक महान\"\n",
        "prompt = \"भारत देश की राजधानी\"\n",
        "print(\"Your Model:\", generate_text(model, tokenizer, prompt))"
      ],
      "metadata": {
        "colab": {
          "base_uri": "https://localhost:8080/"
        },
        "id": "NXAXPnBdG9-k",
        "outputId": "7bd31b0d-7cf8-4061-ee63-88c0720906c3"
      },
      "execution_count": null,
      "outputs": [
        {
          "output_type": "stream",
          "name": "stderr",
          "text": [
            "Setting `pad_token_id` to `eos_token_id`:2 for open-end generation.\n"
          ]
        },
        {
          "output_type": "stream",
          "name": "stdout",
          "text": [
            "Your Model: भारत देश की राजधानीासन से लगभग 8 किलोमीटर दूर है।\n"
          ]
        }
      ]
    },
    {
      "cell_type": "code",
      "source": [],
      "metadata": {
        "id": "-vd5SnVXwXlZ"
      },
      "execution_count": null,
      "outputs": []
    }
  ]
}